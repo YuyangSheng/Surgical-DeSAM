{
 "cells": [
  {
   "cell_type": "code",
   "execution_count": 3,
   "metadata": {},
   "outputs": [
    {
     "ename": "ModuleNotFoundError",
     "evalue": "No module named 'datasets.transforms'",
     "output_type": "error",
     "traceback": [
      "\u001b[0;31m---------------------------------------------------------------------------\u001b[0m",
      "\u001b[0;31mModuleNotFoundError\u001b[0m                       Traceback (most recent call last)",
      "Cell \u001b[0;32mIn[3], line 1\u001b[0m\n\u001b[0;32m----> 1\u001b[0m \u001b[39mfrom\u001b[39;00m \u001b[39mcoco\u001b[39;00m \u001b[39mimport\u001b[39;00m \u001b[39m*\u001b[39m\n",
      "File \u001b[0;32m/cs/student/projects4/rc/2022/yuysheng/detr/datasets/coco.py:14\u001b[0m\n\u001b[1;32m     11\u001b[0m \u001b[39mimport\u001b[39;00m \u001b[39mtorchvision\u001b[39;00m\n\u001b[1;32m     12\u001b[0m \u001b[39mfrom\u001b[39;00m \u001b[39mpycocotools\u001b[39;00m \u001b[39mimport\u001b[39;00m mask \u001b[39mas\u001b[39;00m coco_mask\n\u001b[0;32m---> 14\u001b[0m \u001b[39mimport\u001b[39;00m \u001b[39mdatasets\u001b[39;00m\u001b[39m.\u001b[39;00m\u001b[39mtransforms\u001b[39;00m \u001b[39mas\u001b[39;00m \u001b[39mT\u001b[39;00m\n\u001b[1;32m     17\u001b[0m \u001b[39mclass\u001b[39;00m \u001b[39mCocoDetection\u001b[39;00m(torchvision\u001b[39m.\u001b[39mdatasets\u001b[39m.\u001b[39mCocoDetection):\n\u001b[1;32m     18\u001b[0m     \u001b[39mdef\u001b[39;00m \u001b[39m__init__\u001b[39m(\u001b[39mself\u001b[39m, img_folder, ann_file, transforms, return_masks):\n",
      "\u001b[0;31mModuleNotFoundError\u001b[0m: No module named 'datasets.transforms'"
     ]
    }
   ],
   "source": [
    "from coco import *"
   ]
  },
  {
   "cell_type": "code",
   "execution_count": 6,
   "metadata": {},
   "outputs": [
    {
     "ename": "AttributeError",
     "evalue": "module 'torchvision.transforms' has no attribute 'RandomSelect'",
     "output_type": "error",
     "traceback": [
      "\u001b[0;31m---------------------------------------------------------------------------\u001b[0m",
      "\u001b[0;31mAttributeError\u001b[0m                            Traceback (most recent call last)",
      "Cell \u001b[0;32mIn[6], line 5\u001b[0m\n\u001b[1;32m      2\u001b[0m ann_file \u001b[39m=\u001b[39m \u001b[39m'\u001b[39m\u001b[39m../coco/annotations/instances_train2017.json\u001b[39m\u001b[39m'\u001b[39m\n\u001b[1;32m      3\u001b[0m image_set \u001b[39m=\u001b[39m \u001b[39m'\u001b[39m\u001b[39mtrain\u001b[39m\u001b[39m'\u001b[39m\n\u001b[0;32m----> 5\u001b[0m dataset \u001b[39m=\u001b[39m CocoDetection(img_folder, ann_file, transforms\u001b[39m=\u001b[39mmake_coco_transforms(image_set), return_masks\u001b[39m=\u001b[39m\u001b[39mFalse\u001b[39;00m)\n",
      "File \u001b[0;32m/cs/student/projects4/rc/2022/yuysheng/detr/datasets/coco.py:127\u001b[0m, in \u001b[0;36mmake_coco_transforms\u001b[0;34m(image_set)\u001b[0m\n\u001b[1;32m    122\u001b[0m scales \u001b[39m=\u001b[39m [\u001b[39m480\u001b[39m, \u001b[39m512\u001b[39m, \u001b[39m544\u001b[39m, \u001b[39m576\u001b[39m, \u001b[39m608\u001b[39m, \u001b[39m640\u001b[39m, \u001b[39m672\u001b[39m, \u001b[39m704\u001b[39m, \u001b[39m736\u001b[39m, \u001b[39m768\u001b[39m, \u001b[39m800\u001b[39m]\n\u001b[1;32m    124\u001b[0m \u001b[39mif\u001b[39;00m image_set \u001b[39m==\u001b[39m \u001b[39m'\u001b[39m\u001b[39mtrain\u001b[39m\u001b[39m'\u001b[39m:\n\u001b[1;32m    125\u001b[0m     \u001b[39mreturn\u001b[39;00m T\u001b[39m.\u001b[39mCompose([\n\u001b[1;32m    126\u001b[0m         T\u001b[39m.\u001b[39mRandomHorizontalFlip(),\n\u001b[0;32m--> 127\u001b[0m         T\u001b[39m.\u001b[39;49mRandomSelect(\n\u001b[1;32m    128\u001b[0m             T\u001b[39m.\u001b[39mRandomResize(scales, max_size\u001b[39m=\u001b[39m\u001b[39m1333\u001b[39m),\n\u001b[1;32m    129\u001b[0m             T\u001b[39m.\u001b[39mCompose([\n\u001b[1;32m    130\u001b[0m                 T\u001b[39m.\u001b[39mRandomResize([\u001b[39m400\u001b[39m, \u001b[39m500\u001b[39m, \u001b[39m600\u001b[39m]),\n\u001b[1;32m    131\u001b[0m                 T\u001b[39m.\u001b[39mRandomSizeCrop(\u001b[39m384\u001b[39m, \u001b[39m600\u001b[39m),\n\u001b[1;32m    132\u001b[0m                 T\u001b[39m.\u001b[39mRandomResize(scales, max_size\u001b[39m=\u001b[39m\u001b[39m1333\u001b[39m),\n\u001b[1;32m    133\u001b[0m             ])\n\u001b[1;32m    134\u001b[0m         ),\n\u001b[1;32m    135\u001b[0m         normalize,\n\u001b[1;32m    136\u001b[0m     ])\n\u001b[1;32m    138\u001b[0m \u001b[39mif\u001b[39;00m image_set \u001b[39m==\u001b[39m \u001b[39m'\u001b[39m\u001b[39mval\u001b[39m\u001b[39m'\u001b[39m:\n\u001b[1;32m    139\u001b[0m     \u001b[39mreturn\u001b[39;00m T\u001b[39m.\u001b[39mCompose([\n\u001b[1;32m    140\u001b[0m         T\u001b[39m.\u001b[39mRandomResize([\u001b[39m800\u001b[39m], max_size\u001b[39m=\u001b[39m\u001b[39m1333\u001b[39m),\n\u001b[1;32m    141\u001b[0m         normalize,\n\u001b[1;32m    142\u001b[0m     ])\n",
      "\u001b[0;31mAttributeError\u001b[0m: module 'torchvision.transforms' has no attribute 'RandomSelect'"
     ]
    }
   ],
   "source": [
    "img_folder = '../coco/train2017/'\n",
    "ann_file = '../coco/annotations/instances_train2017.json'\n",
    "image_set = 'train'\n",
    "\n",
    "dataset = CocoDetection(img_folder, ann_file, transforms=make_coco_transforms(image_set), return_masks=False)"
   ]
  },
  {
   "cell_type": "code",
   "execution_count": null,
   "metadata": {},
   "outputs": [],
   "source": []
  }
 ],
 "metadata": {
  "kernelspec": {
   "display_name": "MonoEnv",
   "language": "python",
   "name": "python3"
  },
  "language_info": {
   "codemirror_mode": {
    "name": "ipython",
    "version": 3
   },
   "file_extension": ".py",
   "mimetype": "text/x-python",
   "name": "python",
   "nbconvert_exporter": "python",
   "pygments_lexer": "ipython3",
   "version": "3.10.11"
  },
  "orig_nbformat": 4
 },
 "nbformat": 4,
 "nbformat_minor": 2
}
